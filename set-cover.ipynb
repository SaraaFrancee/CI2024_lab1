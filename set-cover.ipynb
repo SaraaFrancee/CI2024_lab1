{
 "cells": [
  {
   "cell_type": "markdown",
   "metadata": {},
   "source": [
    "Copyright **`(c)`** 2024 Giovanni Squillero `<giovanni.squillero@polito.it>`  \n",
    "[`https://github.com/squillero/computational-intelligence`](https://github.com/squillero/computational-intelligence)  \n",
    "Free for personal or classroom use; see [`LICENSE.md`](https://github.com/squillero/computational-intelligence/blob/master/LICENSE.md) for details.  "
   ]
  },
  {
   "cell_type": "markdown",
   "metadata": {},
   "source": [
    "# Set Cover problem\n",
    "\n",
    "See: https://en.wikipedia.org/wiki/Set_cover_problem"
   ]
  },
  {
   "cell_type": "code",
   "execution_count": 118,
   "metadata": {},
   "outputs": [],
   "source": [
    "from random import random, seed\n",
    "from itertools import product\n",
    "from itertools import accumulate\n",
    "import numpy as np\n",
    "from matplotlib import pyplot as plt\n",
    "from icecream import ic"
   ]
  },
  {
   "cell_type": "markdown",
   "metadata": {},
   "source": [
    "## Reproducible Initialization\n",
    "\n",
    "If you want to get reproducible results, use `rng` (and restart the kernel); for non-reproducible ones, use `np.random`."
   ]
  },
  {
   "cell_type": "code",
   "execution_count": 119,
   "metadata": {},
   "outputs": [],
   "source": [
    "UNIVERSE_SIZE = 100000\n",
    "NUM_SETS = 10000\n",
    "DENSITY = 0.1\n",
    "\n",
    "rng = np.random.Generator(np.random.PCG64([UNIVERSE_SIZE, NUM_SETS, int(10_000 * DENSITY)]))"
   ]
  },
  {
   "cell_type": "code",
   "execution_count": 120,
   "metadata": {},
   "outputs": [],
   "source": [
    "# DON'T EDIT THESE LINES!\n",
    "\n",
    "SETS = np.random.random((NUM_SETS, UNIVERSE_SIZE)) < DENSITY\n",
    "for s in range(UNIVERSE_SIZE):\n",
    "    if not np.any(SETS[:, s]):\n",
    "        SETS[np.random.randint(NUM_SETS), s] = True\n",
    "COSTS = np.pow(SETS.sum(axis=1), 1.1)"
   ]
  },
  {
   "cell_type": "markdown",
   "metadata": {},
   "source": [
    "## Helper Functions"
   ]
  },
  {
   "cell_type": "code",
   "execution_count": 121,
   "metadata": {},
   "outputs": [],
   "source": [
    "def valid(solution):\n",
    "    \"\"\"Checks wether solution is valid (ie. covers all universe)\"\"\"\n",
    "    return np.all(np.logical_or.reduce(SETS[solution]))\n",
    "\n",
    "\n",
    "def cost(solution):\n",
    "    \"\"\"Returns the cost of a solution (to be minimized)\"\"\"\n",
    "    return COSTS[solution].sum()"
   ]
  },
  {
   "cell_type": "markdown",
   "metadata": {},
   "source": [
    "## Have Fun!"
   ]
  },
  {
   "cell_type": "code",
   "execution_count": null,
   "metadata": {},
   "outputs": [],
   "source": [
    "# A dumb solution of \"all\" sets\n",
    "solution = np.full(NUM_SETS, True)\n",
    "valid(solution), cost(solution)"
   ]
  },
  {
   "cell_type": "code",
   "execution_count": null,
   "metadata": {},
   "outputs": [],
   "source": [
    "# A random solution with random 50% of the sets\n",
    "solution = rng.random(NUM_SETS) < .5\n",
    "valid(solution), cost(solution)"
   ]
  },
  {
   "cell_type": "code",
   "execution_count": null,
   "metadata": {},
   "outputs": [],
   "source": [
    "solution = np.full(NUM_SETS, True)\n",
    "SETS_ONE = SETS.astype(int)\n",
    "history = [cost(solution)]\n",
    "\n",
    "def improve1(solution, repetitions, steps):\n",
    "    steps += 1\n",
    "    index=-1\n",
    "    max_num=0\n",
    "    for i in range(NUM_SETS):\n",
    "        if (solution[i]==True):\n",
    "            occ = np.multiply(SETS_ONE[i], repetitions)\n",
    "            if 1 not in occ:\n",
    "                sum = occ.sum()\n",
    "                if sum>max_num:\n",
    "                    max_num=sum\n",
    "                    index=i        \n",
    "    if index!=-1:\n",
    "        solution[index] = False\n",
    "        history.append(cost(solution))\n",
    "        repetitions -= SETS_ONE[index]\n",
    "        ic(steps, cost(solution))\n",
    "        improve1(solution, repetitions, steps)\n",
    "    return\n",
    "\n",
    "def improve2(solution, repetitions, steps):\n",
    "    steps += 1\n",
    "    index=np.full(100, -1)\n",
    "    max_num=np.full(100, 0)\n",
    "    for i in range(NUM_SETS):\n",
    "        if (solution[i]==True):\n",
    "            occ = np.multiply(SETS_ONE[i], repetitions)\n",
    "            if 1 not in occ:\n",
    "                sum = occ.sum()\n",
    "                for x in range(100):\n",
    "                    if sum>max_num[x]:\n",
    "                        ref = 99\n",
    "                        for y in range(99-x):\n",
    "                            max_num[ref]=max_num[ref-1]\n",
    "                            index[ref]=index[ref-1]\n",
    "                            ref -= 1\n",
    "                        max_num[x]=sum\n",
    "                        index[x]=i\n",
    "                        break  \n",
    "    val = 0\n",
    "    for n in range(100):\n",
    "        if index[n]!=-1:\n",
    "            prova = solution.copy()\n",
    "            prova[index[n]] = False\n",
    "            if (valid(prova)):\n",
    "                val += 1\n",
    "                solution[index[n]] = False\n",
    "                repetitions -= SETS_ONE[index[n]]\n",
    "    if index[0]!=-1:\n",
    "        history.append(cost(solution))\n",
    "        ic(steps, val, solution.sum(),  cost(solution))\n",
    "        improve2(solution, repetitions, steps)\n",
    "    return\n",
    "\n",
    "def search():\n",
    "    steps = 0\n",
    "    rep = np.full(UNIVERSE_SIZE, 0)\n",
    "    for s in range(NUM_SETS):\n",
    "       rep += SETS_ONE[s]\n",
    "    if (UNIVERSE_SIZE>10000):\n",
    "       improve2(solution, rep, steps)\n",
    "    else:\n",
    "        improve1(solution, rep, steps)\n",
    "    return\n",
    "\n",
    "search()\n",
    "\n",
    "plt.figure(figsize=(14, 8))\n",
    "_ = plt.scatter(range(len(history)), history, marker=\".\")\n"
   ]
  }
 ],
 "metadata": {
  "kernelspec": {
   "display_name": "Python 3 (ipykernel)",
   "language": "python",
   "name": "python3"
  },
  "language_info": {
   "codemirror_mode": {
    "name": "ipython",
    "version": 3
   },
   "file_extension": ".py",
   "mimetype": "text/x-python",
   "name": "python",
   "nbconvert_exporter": "python",
   "pygments_lexer": "ipython3",
   "version": "3.12.7"
  }
 },
 "nbformat": 4,
 "nbformat_minor": 4
}
